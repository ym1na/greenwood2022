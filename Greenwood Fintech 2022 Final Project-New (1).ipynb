{
 "cells": [
  {
   "cell_type": "markdown",
   "metadata": {},
   "source": [
    "# Portfolio Analysis"
   ]
  },
  {
   "cell_type": "markdown",
   "metadata": {},
   "source": [
    "### Does the historical perfomance of a company predict its future performance? \n",
    "For the project, you will give a hypothesis to this question. You will implement and test a simple investment strategy: buying the best peforming stocks. <br> This strategy is an example of *momentum investing*. This means you believe the stocks will continue to perform well based on historical data and trends. You can learn more about this strategy <a href=\"https://www.investopedia.com/terms/m/momentum_investing.asp\">here</a>. <br> To compare this strategy you will test it against another strategy: buying the worst perfoming stocks. For a given dataset you will find which are the best and worst stocks and you will also test their performance in the \"future\".\n",
    "\n",
    "**But before we go into the strategies, let's take a look at the data we have available.**"
   ]
  },
  {
   "cell_type": "markdown",
   "metadata": {},
   "source": [
    "For this project we have available historical stock returns from beggining of 2012 until the end of 2021 for 419 different companies that are part of the [Standard and Poor's 500 list](https://en.wikipedia.org/wiki/S%26P_500). The symbol used in trading for this list is `SPX`.\n",
    "\n",
    "Your first task is to create a function that loads our dataset as a pandas DataFrame. Data can be found in the file  named `spx_price_data_clean.pk`."
   ]
  },
  {
   "cell_type": "code",
   "execution_count": 1,
   "metadata": {},
   "outputs": [],
   "source": [
    "import pandas as pd\n",
    "import numpy as np\n",
    "import random\n",
    "import matplotlib.pyplot as plt\n",
    "import spx_data as spx\n",
    "import yfinance as yf\n",
    "import price_analysis as px\n",
    "# Add any necessary imports here\n",
    "\n",
    "# uses function get_cached_clean_price_data() to load our dataset as a DataFrame(pandas)\n",
    "def load_spx_data() -> pd.DataFrame:\n",
    "    px_clean = spx.get_cached_clean_price_data()\n",
    "    return px_clean"
   ]
  },
  {
   "cell_type": "code",
   "execution_count": 2,
   "metadata": {},
   "outputs": [
    {
     "data": {
      "text/html": [
       "<div>\n",
       "<style scoped>\n",
       "    .dataframe tbody tr th:only-of-type {\n",
       "        vertical-align: middle;\n",
       "    }\n",
       "\n",
       "    .dataframe tbody tr th {\n",
       "        vertical-align: top;\n",
       "    }\n",
       "\n",
       "    .dataframe thead th {\n",
       "        text-align: right;\n",
       "    }\n",
       "</style>\n",
       "<table border=\"1\" class=\"dataframe\">\n",
       "  <thead>\n",
       "    <tr style=\"text-align: right;\">\n",
       "      <th></th>\n",
       "      <th>date</th>\n",
       "      <th>ticker</th>\n",
       "      <th>adj_close</th>\n",
       "      <th>industry</th>\n",
       "      <th>beta</th>\n",
       "      <th>marketcap</th>\n",
       "      <th>year</th>\n",
       "    </tr>\n",
       "  </thead>\n",
       "  <tbody>\n",
       "    <tr>\n",
       "      <th>0</th>\n",
       "      <td>2012-01-03</td>\n",
       "      <td>UHS</td>\n",
       "      <td>36.024746</td>\n",
       "      <td>Medical Care Facilities</td>\n",
       "      <td>1.099107</td>\n",
       "      <td>9.294312e+09</td>\n",
       "      <td>2012</td>\n",
       "    </tr>\n",
       "    <tr>\n",
       "      <th>1</th>\n",
       "      <td>2012-01-04</td>\n",
       "      <td>UHS</td>\n",
       "      <td>35.356033</td>\n",
       "      <td>Medical Care Facilities</td>\n",
       "      <td>1.099107</td>\n",
       "      <td>9.294312e+09</td>\n",
       "      <td>2012</td>\n",
       "    </tr>\n",
       "    <tr>\n",
       "      <th>2</th>\n",
       "      <td>2012-01-05</td>\n",
       "      <td>UHS</td>\n",
       "      <td>36.359097</td>\n",
       "      <td>Medical Care Facilities</td>\n",
       "      <td>1.099107</td>\n",
       "      <td>9.294312e+09</td>\n",
       "      <td>2012</td>\n",
       "    </tr>\n",
       "    <tr>\n",
       "      <th>3</th>\n",
       "      <td>2012-01-06</td>\n",
       "      <td>UHS</td>\n",
       "      <td>37.448154</td>\n",
       "      <td>Medical Care Facilities</td>\n",
       "      <td>1.099107</td>\n",
       "      <td>9.294312e+09</td>\n",
       "      <td>2012</td>\n",
       "    </tr>\n",
       "    <tr>\n",
       "      <th>4</th>\n",
       "      <td>2012-01-09</td>\n",
       "      <td>UHS</td>\n",
       "      <td>37.295311</td>\n",
       "      <td>Medical Care Facilities</td>\n",
       "      <td>1.099107</td>\n",
       "      <td>9.294312e+09</td>\n",
       "      <td>2012</td>\n",
       "    </tr>\n",
       "    <tr>\n",
       "      <th>...</th>\n",
       "      <td>...</td>\n",
       "      <td>...</td>\n",
       "      <td>...</td>\n",
       "      <td>...</td>\n",
       "      <td>...</td>\n",
       "      <td>...</td>\n",
       "      <td>...</td>\n",
       "    </tr>\n",
       "    <tr>\n",
       "      <th>1054618</th>\n",
       "      <td>2021-12-27</td>\n",
       "      <td>AES</td>\n",
       "      <td>23.501158</td>\n",
       "      <td>Utilities—Diversified</td>\n",
       "      <td>0.997731</td>\n",
       "      <td>1.430556e+10</td>\n",
       "      <td>2021</td>\n",
       "    </tr>\n",
       "    <tr>\n",
       "      <th>1054619</th>\n",
       "      <td>2021-12-28</td>\n",
       "      <td>AES</td>\n",
       "      <td>23.570658</td>\n",
       "      <td>Utilities—Diversified</td>\n",
       "      <td>0.997731</td>\n",
       "      <td>1.430556e+10</td>\n",
       "      <td>2021</td>\n",
       "    </tr>\n",
       "    <tr>\n",
       "      <th>1054620</th>\n",
       "      <td>2021-12-29</td>\n",
       "      <td>AES</td>\n",
       "      <td>23.610374</td>\n",
       "      <td>Utilities—Diversified</td>\n",
       "      <td>0.997731</td>\n",
       "      <td>1.430556e+10</td>\n",
       "      <td>2021</td>\n",
       "    </tr>\n",
       "    <tr>\n",
       "      <th>1054621</th>\n",
       "      <td>2021-12-30</td>\n",
       "      <td>AES</td>\n",
       "      <td>23.997591</td>\n",
       "      <td>Utilities—Diversified</td>\n",
       "      <td>0.997731</td>\n",
       "      <td>1.430556e+10</td>\n",
       "      <td>2021</td>\n",
       "    </tr>\n",
       "    <tr>\n",
       "      <th>1054622</th>\n",
       "      <td>2021-12-31</td>\n",
       "      <td>AES</td>\n",
       "      <td>24.126663</td>\n",
       "      <td>Utilities—Diversified</td>\n",
       "      <td>0.997731</td>\n",
       "      <td>1.430556e+10</td>\n",
       "      <td>2021</td>\n",
       "    </tr>\n",
       "  </tbody>\n",
       "</table>\n",
       "<p>1054623 rows × 7 columns</p>\n",
       "</div>"
      ],
      "text/plain": [
       "              date ticker  adj_close                 industry      beta  \\\n",
       "0       2012-01-03    UHS  36.024746  Medical Care Facilities  1.099107   \n",
       "1       2012-01-04    UHS  35.356033  Medical Care Facilities  1.099107   \n",
       "2       2012-01-05    UHS  36.359097  Medical Care Facilities  1.099107   \n",
       "3       2012-01-06    UHS  37.448154  Medical Care Facilities  1.099107   \n",
       "4       2012-01-09    UHS  37.295311  Medical Care Facilities  1.099107   \n",
       "...            ...    ...        ...                      ...       ...   \n",
       "1054618 2021-12-27    AES  23.501158    Utilities—Diversified  0.997731   \n",
       "1054619 2021-12-28    AES  23.570658    Utilities—Diversified  0.997731   \n",
       "1054620 2021-12-29    AES  23.610374    Utilities—Diversified  0.997731   \n",
       "1054621 2021-12-30    AES  23.997591    Utilities—Diversified  0.997731   \n",
       "1054622 2021-12-31    AES  24.126663    Utilities—Diversified  0.997731   \n",
       "\n",
       "            marketcap  year  \n",
       "0        9.294312e+09  2012  \n",
       "1        9.294312e+09  2012  \n",
       "2        9.294312e+09  2012  \n",
       "3        9.294312e+09  2012  \n",
       "4        9.294312e+09  2012  \n",
       "...               ...   ...  \n",
       "1054618  1.430556e+10  2021  \n",
       "1054619  1.430556e+10  2021  \n",
       "1054620  1.430556e+10  2021  \n",
       "1054621  1.430556e+10  2021  \n",
       "1054622  1.430556e+10  2021  \n",
       "\n",
       "[1054623 rows x 7 columns]"
      ]
     },
     "execution_count": 2,
     "metadata": {},
     "output_type": "execute_result"
    }
   ],
   "source": [
    "spx_data = load_spx_data()\n",
    "spx_data"
   ]
  },
  {
   "cell_type": "markdown",
   "metadata": {},
   "source": [
    "The dataset contains the daily stock prices in column `adj_close` and other metadata about the stock or price. To do meaningful analysis on the stocks, you will might need to enrich the dataset with additional important stock data. \n",
    "\n",
    "You will start by creating a function that given the dataset, a start year and an end year (both inclusive), it returns a copy of the dataset but with an additional column that contains the daily returns per stock (ticker). Daily return is defined as the percentage change between any two consecutive days' prices. \n",
    "\n",
    "For example, the adjusted close price (end of day price) of $GOOG$ (Google) was $519.4$ on 2014-10-20 and $525.1$ on 2014-10-21. Thereore, the daily return for date 2014-10-21 for Google's stock is calculated as: $\\frac{(525.1 - 519.4)}{519.4} = 0.011 = 1.1\\%$"
   ]
  },
  {
   "cell_type": "code",
   "execution_count": 3,
   "metadata": {},
   "outputs": [],
   "source": [
    "# Add any necessary imports here\n",
    "import pandas as pd\n",
    "import numpy as np\n",
    "import random\n",
    "import matplotlib.pyplot as plt\n",
    "import spx_data as spx\n",
    "import yfinance as yf\n",
    "import price_analysis as px\n",
    "\n",
    "# uses function get_ticker_total_return() to add daily_return and total_return columns to dataframe\n",
    "def add_daily_returns(dataset: pd.DataFrame, start_year: int, end_year: int) -> pd.DataFrame:\n",
    "    px_ticker = px.get_ticker_total_return(spx_data, 2012, 2021)\n",
    "    return px_ticker"
   ]
  },
  {
   "cell_type": "code",
   "execution_count": 4,
   "metadata": {},
   "outputs": [
    {
     "data": {
      "text/html": [
       "<div>\n",
       "<style scoped>\n",
       "    .dataframe tbody tr th:only-of-type {\n",
       "        vertical-align: middle;\n",
       "    }\n",
       "\n",
       "    .dataframe tbody tr th {\n",
       "        vertical-align: top;\n",
       "    }\n",
       "\n",
       "    .dataframe thead th {\n",
       "        text-align: right;\n",
       "    }\n",
       "</style>\n",
       "<table border=\"1\" class=\"dataframe\">\n",
       "  <thead>\n",
       "    <tr style=\"text-align: right;\">\n",
       "      <th></th>\n",
       "      <th>date</th>\n",
       "      <th>ticker</th>\n",
       "      <th>adj_close</th>\n",
       "      <th>industry</th>\n",
       "      <th>beta</th>\n",
       "      <th>marketcap</th>\n",
       "      <th>year</th>\n",
       "      <th>daily_return</th>\n",
       "      <th>total_return</th>\n",
       "    </tr>\n",
       "  </thead>\n",
       "  <tbody>\n",
       "    <tr>\n",
       "      <th>0</th>\n",
       "      <td>2012-01-03</td>\n",
       "      <td>UHS</td>\n",
       "      <td>36.024746</td>\n",
       "      <td>Medical Care Facilities</td>\n",
       "      <td>1.099107</td>\n",
       "      <td>9.294312e+09</td>\n",
       "      <td>2012</td>\n",
       "      <td>NaN</td>\n",
       "      <td>NaN</td>\n",
       "    </tr>\n",
       "    <tr>\n",
       "      <th>1</th>\n",
       "      <td>2012-01-04</td>\n",
       "      <td>UHS</td>\n",
       "      <td>35.356033</td>\n",
       "      <td>Medical Care Facilities</td>\n",
       "      <td>1.099107</td>\n",
       "      <td>9.294312e+09</td>\n",
       "      <td>2012</td>\n",
       "      <td>-0.018563</td>\n",
       "      <td>-0.018563</td>\n",
       "    </tr>\n",
       "    <tr>\n",
       "      <th>2</th>\n",
       "      <td>2012-01-05</td>\n",
       "      <td>UHS</td>\n",
       "      <td>36.359097</td>\n",
       "      <td>Medical Care Facilities</td>\n",
       "      <td>1.099107</td>\n",
       "      <td>9.294312e+09</td>\n",
       "      <td>2012</td>\n",
       "      <td>0.028370</td>\n",
       "      <td>0.009281</td>\n",
       "    </tr>\n",
       "    <tr>\n",
       "      <th>3</th>\n",
       "      <td>2012-01-06</td>\n",
       "      <td>UHS</td>\n",
       "      <td>37.448154</td>\n",
       "      <td>Medical Care Facilities</td>\n",
       "      <td>1.099107</td>\n",
       "      <td>9.294312e+09</td>\n",
       "      <td>2012</td>\n",
       "      <td>0.029953</td>\n",
       "      <td>0.039512</td>\n",
       "    </tr>\n",
       "    <tr>\n",
       "      <th>4</th>\n",
       "      <td>2012-01-09</td>\n",
       "      <td>UHS</td>\n",
       "      <td>37.295311</td>\n",
       "      <td>Medical Care Facilities</td>\n",
       "      <td>1.099107</td>\n",
       "      <td>9.294312e+09</td>\n",
       "      <td>2012</td>\n",
       "      <td>-0.004081</td>\n",
       "      <td>0.035269</td>\n",
       "    </tr>\n",
       "    <tr>\n",
       "      <th>...</th>\n",
       "      <td>...</td>\n",
       "      <td>...</td>\n",
       "      <td>...</td>\n",
       "      <td>...</td>\n",
       "      <td>...</td>\n",
       "      <td>...</td>\n",
       "      <td>...</td>\n",
       "      <td>...</td>\n",
       "      <td>...</td>\n",
       "    </tr>\n",
       "    <tr>\n",
       "      <th>1054618</th>\n",
       "      <td>2021-12-27</td>\n",
       "      <td>AES</td>\n",
       "      <td>23.501158</td>\n",
       "      <td>Utilities—Diversified</td>\n",
       "      <td>0.997731</td>\n",
       "      <td>1.430556e+10</td>\n",
       "      <td>2021</td>\n",
       "      <td>0.005096</td>\n",
       "      <td>1.606708</td>\n",
       "    </tr>\n",
       "    <tr>\n",
       "      <th>1054619</th>\n",
       "      <td>2021-12-28</td>\n",
       "      <td>AES</td>\n",
       "      <td>23.570658</td>\n",
       "      <td>Utilities—Diversified</td>\n",
       "      <td>0.997731</td>\n",
       "      <td>1.430556e+10</td>\n",
       "      <td>2021</td>\n",
       "      <td>0.002957</td>\n",
       "      <td>1.614417</td>\n",
       "    </tr>\n",
       "    <tr>\n",
       "      <th>1054620</th>\n",
       "      <td>2021-12-29</td>\n",
       "      <td>AES</td>\n",
       "      <td>23.610374</td>\n",
       "      <td>Utilities—Diversified</td>\n",
       "      <td>0.997731</td>\n",
       "      <td>1.430556e+10</td>\n",
       "      <td>2021</td>\n",
       "      <td>0.001685</td>\n",
       "      <td>1.618822</td>\n",
       "    </tr>\n",
       "    <tr>\n",
       "      <th>1054621</th>\n",
       "      <td>2021-12-30</td>\n",
       "      <td>AES</td>\n",
       "      <td>23.997591</td>\n",
       "      <td>Utilities—Diversified</td>\n",
       "      <td>0.997731</td>\n",
       "      <td>1.430556e+10</td>\n",
       "      <td>2021</td>\n",
       "      <td>0.016400</td>\n",
       "      <td>1.661771</td>\n",
       "    </tr>\n",
       "    <tr>\n",
       "      <th>1054622</th>\n",
       "      <td>2021-12-31</td>\n",
       "      <td>AES</td>\n",
       "      <td>24.126663</td>\n",
       "      <td>Utilities—Diversified</td>\n",
       "      <td>0.997731</td>\n",
       "      <td>1.430556e+10</td>\n",
       "      <td>2021</td>\n",
       "      <td>0.005379</td>\n",
       "      <td>1.676088</td>\n",
       "    </tr>\n",
       "  </tbody>\n",
       "</table>\n",
       "<p>1054623 rows × 9 columns</p>\n",
       "</div>"
      ],
      "text/plain": [
       "              date ticker  adj_close                 industry      beta  \\\n",
       "0       2012-01-03    UHS  36.024746  Medical Care Facilities  1.099107   \n",
       "1       2012-01-04    UHS  35.356033  Medical Care Facilities  1.099107   \n",
       "2       2012-01-05    UHS  36.359097  Medical Care Facilities  1.099107   \n",
       "3       2012-01-06    UHS  37.448154  Medical Care Facilities  1.099107   \n",
       "4       2012-01-09    UHS  37.295311  Medical Care Facilities  1.099107   \n",
       "...            ...    ...        ...                      ...       ...   \n",
       "1054618 2021-12-27    AES  23.501158    Utilities—Diversified  0.997731   \n",
       "1054619 2021-12-28    AES  23.570658    Utilities—Diversified  0.997731   \n",
       "1054620 2021-12-29    AES  23.610374    Utilities—Diversified  0.997731   \n",
       "1054621 2021-12-30    AES  23.997591    Utilities—Diversified  0.997731   \n",
       "1054622 2021-12-31    AES  24.126663    Utilities—Diversified  0.997731   \n",
       "\n",
       "            marketcap  year  daily_return  total_return  \n",
       "0        9.294312e+09  2012           NaN           NaN  \n",
       "1        9.294312e+09  2012     -0.018563     -0.018563  \n",
       "2        9.294312e+09  2012      0.028370      0.009281  \n",
       "3        9.294312e+09  2012      0.029953      0.039512  \n",
       "4        9.294312e+09  2012     -0.004081      0.035269  \n",
       "...               ...   ...           ...           ...  \n",
       "1054618  1.430556e+10  2021      0.005096      1.606708  \n",
       "1054619  1.430556e+10  2021      0.002957      1.614417  \n",
       "1054620  1.430556e+10  2021      0.001685      1.618822  \n",
       "1054621  1.430556e+10  2021      0.016400      1.661771  \n",
       "1054622  1.430556e+10  2021      0.005379      1.676088  \n",
       "\n",
       "[1054623 rows x 9 columns]"
      ]
     },
     "execution_count": 4,
     "metadata": {},
     "output_type": "execute_result"
    }
   ],
   "source": [
    "spx_data_with_daily_returns = add_daily_returns(spx_data, 2012, 2021)\n",
    "spx_data_with_daily_returns"
   ]
  },
  {
   "cell_type": "markdown",
   "metadata": {},
   "source": [
    "Now let's take a look at the daily returns. \n",
    "\n",
    "Pick your favorite stock (Google - GOOG, Tesla - TSLA, Apple - AAPL etc.) and plot a graph of the daily return versus date for that stock for all of its historical data available in the dataset."
   ]
  },
  {
   "cell_type": "code",
   "execution_count": 12,
   "metadata": {},
   "outputs": [
    {
     "data": {
      "image/png": "[encoded data removed]",
      "text/plain": [
       "<Figure size 432x288 with 1 Axes>"
      ]
     },
     "metadata": {
      "needs_background": "light"
     },
     "output_type": "display_data"
    }
   ],
   "source": [
    "# Add any necessary imports here\n",
    "import pandas as pd\n",
    "import numpy as np\n",
    "import random\n",
    "import matplotlib.pyplot as plt\n",
    "import spx_data as spx\n",
    "import yfinance as yf\n",
    "import price_analysis as px\n",
    "\n",
    "# Plots Scatterplot of daily returns vs. date for Google(2012-2021) using updated DataFrame\n",
    "#still doesn't only ploy GOOG, we have to use loc or iloc(I think) but i'm still researching\n",
    "plt.scatter(spx_data_with_daily_returns[\"date\"],spx_data_with_daily_returns[\"daily_return\"])\n",
    "plt.xlabel(\"Date\", fontsize = 12)\n",
    "plt.ylabel(\"Daily Returns\", fontsize = 12)\n",
    "plt.title(\"Daily Returns Graph\", fontsize = 20)\n",
    "plt.show()"
   ]
  },
  {
   "cell_type": "markdown",
   "metadata": {},
   "source": [
    "In a few words, what can you tell about the daily returns based on the graph you plotted? "
   ]
  },
  {
   "cell_type": "code",
   "execution_count": null,
   "metadata": {},
   "outputs": [],
   "source": [
    "# TODO \n",
    "# Write down your observations about the graph above\n",
    "\n",
    "#\n",
    "#\n",
    "#"
   ]
  },
  {
   "cell_type": "markdown",
   "metadata": {},
   "source": [
    "Now implement a function that given a dataset that has the daily returns, it returns a copy of the dataset with a new column that contains the total returns per stock per date in the timeframe. The total return for a given date is equal to the percentage change between the price at the start of the period and price on that date."
   ]
  },
  {
   "cell_type": "code",
   "execution_count": null,
   "metadata": {},
   "outputs": [],
   "source": [
    "# Add any necessary imports here\n",
    "\n",
    "\n",
    "def add_total_returns(dataset: pd.DataFrame, start_year: int, end_year: int) -> pd.DataFrame:\n",
    "    \n",
    "    pass  # delete this line before implementing the function\n",
    "    # TODO"
   ]
  },
  {
   "cell_type": "code",
   "execution_count": null,
   "metadata": {},
   "outputs": [],
   "source": [
    "spx_data_with_total_returns = add_total_returns(spx_data_with_daily_returns, 2012, 2021)"
   ]
  },
  {
   "cell_type": "markdown",
   "metadata": {},
   "source": [
    "Similarly, for the same stock you picked, plot a graph that shows how total return changes over time for all of its historical data available in the dataset and comment with your observations."
   ]
  },
  {
   "cell_type": "code",
   "execution_count": null,
   "metadata": {},
   "outputs": [],
   "source": [
    "# Add any necessary imports here\n",
    "\n",
    "\n",
    "# TODO\n",
    "# Write code that plots the graph of *total* returns versus date for your stock choice\n"
   ]
  },
  {
   "cell_type": "code",
   "execution_count": null,
   "metadata": {},
   "outputs": [],
   "source": [
    "# TODO \n",
    "# Write down your observations about the graph above\n",
    "\n",
    "#\n",
    "#\n",
    "#"
   ]
  },
  {
   "cell_type": "markdown",
   "metadata": {},
   "source": [
    "Now that you are more familiar with our dataset and know how to add necessary stock returns to it, let's dive into the investment strategy.\n",
    "\n",
    "For this project you will implement two very similar strategies, where we will create an equally weighted portfolio by:\n",
    "\n",
    "1. **Picking the top 10 performing stocks over a time period**\n",
    "2. **Picking the bottom 10 performing stocks over a time period**\n",
    "\n",
    "To be able to test the performace of your investment strategy we will \"split\" the dataset in two periods. The first period will be between start of 2012 and end of 2015. Data from this time period will be used to pick top and bottom performing stocks. The rest of the dataset, between start of 2016 and end of 2021, will be used to test the performace of the picked stocks.\n",
    "\n",
    "You will start by implementing a function that given the dataset, a start year, and an end year, returns a list with top 10 performing stocks (try to make the function generic so that it works for any number of stocks and for either best or worst performing stocks). Top performing stocks for any period of time are the ones which the highest total return at the end of that period."
   ]
  },
  {
   "cell_type": "code",
   "execution_count": null,
   "metadata": {},
   "outputs": [],
   "source": [
    "from typing import List\n",
    "# Add any necessary imports here\n",
    "\n",
    "def top_performing_stocks(dataset: pd.DataFrame, start_year:int, end_year:int, number_stocks:int = 10) -> List[str]:\n",
    "    pass  # delete this line before implementing the function\n",
    "    # TODO"
   ]
  },
  {
   "cell_type": "code",
   "execution_count": null,
   "metadata": {},
   "outputs": [],
   "source": [
    "# Run code below to test your function\n",
    "\n",
    "error_message = (\n",
    "    \"Your function did not return the correct set of top \"\n",
    "    \"10 stock performers from start of year {start_year} \"\n",
    "    \"to the end of year {end_year}. \\n\"\n",
    "    \"Expected: {expected}\\n\"\n",
    "    \"Your function returned: {result}\\n\"\n",
    ")\n",
    "success_message = \"Well Done! All tests passed!\"\n",
    "\n",
    "test_cases = [\n",
    "    (2012, 2012, {'REGN', 'PHM', 'AAL', 'WHR', 'EXPE', 'EQIX', 'BAC', 'LEN', 'STX', 'MPC'}),\n",
    "    (2013, 2013, {'MU', 'LYV', 'BBY', 'TMUS', 'TSLA', 'BSX', 'INCY', 'NFLX', 'HII', 'FLT'}),\n",
    "    (2014, 2016, {'NVDA', 'SWKS', 'LUV', 'ULTA', 'AVGO', 'AMD', 'ABMD', 'TTWO', 'EW', 'EA'}),\n",
    "    \n",
    "]\n",
    "\n",
    "for start_year, end_year, expected_result in test_cases:\n",
    "    result = set(top_performing_stocks(spx_data, start_year, end_year))\n",
    "\n",
    "    assert  result == expected_result, error_message.format(\n",
    "        start_year=start_year, end_year=end_year, expected=expected_result, result=result\n",
    "    )\n",
    "\n",
    "print(success_message)"
   ]
  },
  {
   "cell_type": "markdown",
   "metadata": {},
   "source": [
    "What are top 10 performing stocks for the period between 2012 and 2015?"
   ]
  },
  {
   "cell_type": "code",
   "execution_count": null,
   "metadata": {},
   "outputs": [],
   "source": [
    "# TODO - Get top stocks and print them here\n",
    "top_stocks = top_performing_stocks(...)\n"
   ]
  },
  {
   "cell_type": "markdown",
   "metadata": {},
   "source": [
    "Similarly make a function that returns a list with the worst performing stocks. If needed, feel free to modify the function `top_performing_stocks` to support this functionality. \n",
    "\n",
    "What are the worst 10 performing stocks for the period between 2012 and 2015?"
   ]
  },
  {
   "cell_type": "code",
   "execution_count": null,
   "metadata": {},
   "outputs": [],
   "source": [
    "# TODO - Answer here\n",
    "\n",
    "#\n",
    "#"
   ]
  },
  {
   "cell_type": "markdown",
   "metadata": {},
   "source": [
    "Now that you are able to get lists of best and worst performing stocks, it's time to test how each of these lists would perform in the \"future\". \n",
    "\n",
    "Implement the function below that given the dataset, a start year, an end year, and a list of stocks, it returns a pandas dataset with the total return for those stocks combined for every day in the time period between those years. <br>\n",
    "The list of stocks represents our portfolio. For this part of the project we will assume that each stock in the portfolio has the same weight. A stock's weight is the ratio between the net value of the stock and the net value of the portfolio. In a porfolio with $n$ stocks, the weight of each stock would be $\\frac{1}{n}$.\n",
    "\n",
    "Here is an example you can go though to help clarify how to compute the returns of an equally weighted portfolio: <br>\n",
    "Suppose you have a portfolio worth $\\$100$ with 2 equally weighted stocks ($\\$50$ each).\n",
    "- How much would the portfolio be worth after a month if the total return for each of the 2 stocks is 5%? What would the total return for the portfolio be in this case?\n",
    "- How much would the porfolio be worth after a month if the total return for the first stock is 10% and for the second stock is 6%? What would the total return for the porfolio be in this case?\n",
    "- What about the case when the first stock's total return is 4% and second stock's total return is -4%?"
   ]
  },
  {
   "cell_type": "code",
   "execution_count": null,
   "metadata": {},
   "outputs": [],
   "source": [
    "# Add any necessary imports here\n",
    "\n",
    "\n",
    "def get_portfolio_returns(dataset: pd.DataFrame, start_year: int, end_year: int, tickers: List[str]) -> pd.DataFrame:\n",
    "    pass  # delete this line before implementing the function\n",
    "    # TODO"
   ]
  },
  {
   "cell_type": "markdown",
   "metadata": {},
   "source": [
    "Now use the function you just implemented to get the total returns between 2016 and 2021 for the porfolio with top 10 perfoming stocks of the period between 2012 and 2015. \n",
    "\n",
    "Plot the total returns of the portfolio versus date."
   ]
  },
  {
   "cell_type": "code",
   "execution_count": null,
   "metadata": {},
   "outputs": [],
   "source": [
    "# TODO\n",
    "# Write code that plots the graph of total returns versus date for the portfolio with *top* stocks"
   ]
  },
  {
   "cell_type": "markdown",
   "metadata": {},
   "source": [
    "Now repeat the step above, but for the porfolio with the worst perfoming stocks of the period between 2012 and 2015."
   ]
  },
  {
   "cell_type": "code",
   "execution_count": null,
   "metadata": {},
   "outputs": [],
   "source": [
    "# TODO\n",
    "# Write code that plots the graph of total returns versus date for the portfolio with *worst* stocks"
   ]
  },
  {
   "cell_type": "markdown",
   "metadata": {},
   "source": [
    "### Conclusions\n",
    "\n",
    "What can you tell about the investment strategy based on the results you got? Is buying the top performing stocks a successful strategy? Is it the best strategy? How does it compare to the strategy of buying the worst performing stocks? "
   ]
  },
  {
   "cell_type": "code",
   "execution_count": null,
   "metadata": {},
   "outputs": [],
   "source": [
    "# TODO - Answer here"
   ]
  },
  {
   "cell_type": "markdown",
   "metadata": {},
   "source": [
    "## What's your investment strategy? \n",
    " \n",
    "Come up with an investment strategy different from the ones above and implement it below. You would need to justify your porfolio choice and test it using data different from the one used to build the portfolio.\n",
    "Feel free to use the dataset that's available or the code in `spx_data.py` to load a different dataset. \n",
    "\n",
    "<br>**<a href=\"https://www.investopedia.com/investing/investing-strategies/\">Here</a> are some basic investment strategies to get you started!**"
   ]
  },
  {
   "cell_type": "code",
   "execution_count": null,
   "metadata": {},
   "outputs": [],
   "source": [
    "pip install pyarrow"
   ]
  },
  {
   "cell_type": "code",
   "execution_count": null,
   "metadata": {},
   "outputs": [],
   "source": [
    "pip install windows-curses"
   ]
  },
  {
   "cell_type": "code",
   "execution_count": null,
   "metadata": {},
   "outputs": [],
   "source": [
    "conda install -c conda-forge pyarrow Using Pip"
   ]
  },
  {
   "cell_type": "code",
   "execution_count": null,
   "metadata": {},
   "outputs": [],
   "source": [
    "conda upgrade --all"
   ]
  },
  {
   "cell_type": "code",
   "execution_count": null,
   "metadata": {},
   "outputs": [],
   "source": [
    "pip install psycopg2"
   ]
  },
  {
   "cell_type": "code",
   "execution_count": null,
   "metadata": {},
   "outputs": [],
   "source": []
  }
 ],
 "metadata": {
  "kernelspec": {
   "display_name": "Python 3 (ipykernel)",
   "language": "python",
   "name": "python3"
  },
  "language_info": {
   "codemirror_mode": {
    "name": "ipython",
    "version": 3
   },
   "file_extension": ".py",
   "mimetype": "text/x-python",
   "name": "python",
   "nbconvert_exporter": "python",
   "pygments_lexer": "ipython3",
   "version": "3.9.12"
  }
 },
 "nbformat": 4,
 "nbformat_minor": 2
}
